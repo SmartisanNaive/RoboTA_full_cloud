{
 "cells": [
  {
   "cell_type": "markdown",
   "metadata": {},
   "source": [
    "# OptKnock Tutorial with COBRApy\n",
    "\n",
    "This tutorial demonstrates how to use OptKnock algorithm for metabolic engineering using COBRApy. OptKnock is a bi-level optimization framework that identifies gene knockouts to optimize the production of a target chemical while maintaining cell growth."
   ]
  },
  {
   "cell_type": "markdown",
   "metadata": {},
   "source": [
    "## 1. Introduction to OptKnock\n",
    "\n",
    "OptKnock is a computational method for:\n",
    "- Identifying gene knockouts that maximize chemical production\n",
    "- Maintaining cellular growth through bi-level optimization\n",
    "- Finding optimal metabolic engineering strategies\n",
    "\n",
    "The bi-level optimization problem:\n",
    "- **Outer level**: Maximize chemical production subject to gene knockouts\n",
    "- **Inner level**: Maximize biomass growth subject to the knockouts"
   ]
  },
  {
   "cell_type": "code",
   "execution_count": null,
   "metadata": {},
   "outputs": [],
   "source": [
    "# Import required libraries\n",
    "import cobra\n",
    "import cobra.test\n",
    "import numpy as np\n",
    "import pandas as pd\n",
    "import matplotlib.pyplot as plt\n",
    "from cobra.flux_analysis import flux_variability_analysis as FVA\n",
    "import seaborn as sns\n",
    "\n",
    "# Set plotting style\n",
    "plt.style.use('seaborn-v0_8')\n",
    "sns.set_palette(\"husl\")\n",
    "\n",
    "print(\"COBRApy version:\", cobra.__version__)\n",
    "print(\"Required libraries imported successfully!\")"
   ]
  },
  {
   "cell_type": "markdown",
   "metadata": {},
   "source": "## 2. Load and Prepare the Metabolic Model\n\nWe'll use the iJO1366 E. coli genome-scale metabolic model for this tutorial. This is a comprehensive model containing 2583 reactions, 1805 metabolites, and 1367 genes, representing the complete metabolic network of E. coli."
  },
  {
   "cell_type": "code",
   "execution_count": null,
   "metadata": {},
   "outputs": [],
   "source": "# Load the iJO1366 model with error handling\nimport os\n\nmodel_path = \"iJO1366.xml\"\n\ntry:\n    # Try to load iJO1366 model\n    if os.path.exists(model_path):\n        model = cobra.io.read_sbml_model(model_path)\n        print(\"✓ Successfully loaded iJO1366 model\")\n    else:\n        # Fallback to textbook model if iJO1366 not available\n        print(\"⚠️ iJO1366.xml not found, using textbook model instead\")\n        model = cobra.test.create_test_model(\"textbook\")\n        print(\"✓ Fallback to textbook model completed\")\nexcept Exception as e:\n    print(f\"⚠️ Error loading model: {e}\")\n    print(\"Using textbook model as fallback\")\n    model = cobra.test.create_test_model(\"textbook\")\n\n# Display basic model information\nprint(f\"\\nModel: {model.id}\")\nprint(f\"Number of reactions: {len(model.reactions)}\")\nprint(f\"Number of metabolites: {len(model.metabolites)}\")\nprint(f\"Number of genes: {len(model.genes)}\")\n\n# Find biomass reaction\nbiomass_rxns = [rxn for rxn in model.reactions if \"biomass\" in rxn.id.lower() or \"BIOMASS\" in rxn.id]\nif biomass_rxns:\n    biomass_rxn_id = biomass_rxns[0].id\n    print(f\"\\nBiomass reaction found: {biomass_rxn_id}\")\nelse:\n    # Try to find biomass reaction by objective coefficient\n    for rxn in model.reactions:\n        if hasattr(rxn, 'objective_coefficient') and rxn.objective_coefficient > 0:\n            biomass_rxn_id = rxn.id\n            print(f\"\\nBiomass reaction found: {biomass_rxn_id}\")\n            break\n    else:\n        biomass_rxn_id = \"Biomass_Ecoli_core\"  # Default fallback\n        print(f\"\\nUsing default biomass reaction: {biomass_rxn_id}\")\n\n# Display some key reactions\nprint(f\"\\nKey reactions in the model:\")\nfor i, reaction in enumerate(model.reactions[:10]):\n    print(f\"{reaction.id}: {reaction.name}\")\n    if hasattr(reaction, 'build_reaction_string'):\n        print(f\"  Equation: {reaction.build_reaction_string()}\")\n    print(f\"  Bounds: {reaction.lower_bound} - {reaction.upper_bound}\")\n    if i >= 4:  # Limit display\n        break"
  },
  {
   "cell_type": "markdown",
   "metadata": {},
   "source": "## 3. Define Target Chemical for Production\n\nFor this tutorial, we'll optimize for succinate production. Succinate is an important platform chemical that can be produced metabolically by E. coli. With the iJO1366 model, we have access to the complete metabolic network for more accurate predictions."
  },
  {
   "cell_type": "code",
   "execution_count": null,
   "metadata": {},
   "outputs": [],
   "source": "# Define target reaction (succinate production)\ntarget_reaction = \"EX_succ_e\"  # Succinate exchange reaction\n\n# Check if the target reaction exists\nif target_reaction in [rxn.id for rxn in model.reactions]:\n    target = model.reactions.get_by_id(target_reaction)\n    print(f\"Target reaction: {target_reaction}\")\n    if hasattr(target, 'build_reaction_string'):\n        print(f\"Equation: {target.build_reaction_string()}\")\n    print(f\"Current bounds: {target.lower_bound} - {target.upper_bound}\")\nelse:\n    print(f\"Target reaction {target_reaction} not found in model\")\n    print(\"Searching for succinate-related reactions...\")\n    \n    # Search for succinate-related reactions\n    succ_reactions = []\n    for rxn in model.reactions:\n        if \"succ\" in rxn.id.lower():\n            succ_reactions.append(rxn.id)\n    \n    if succ_reactions:\n        print(f\"Found succinate reactions: {succ_reactions}\")\n        # Use the first exchange reaction found\n        for rxn_id in succ_reactions:\n            if \"EX_\" in rxn_id:\n                target_reaction = rxn_id\n                print(f\"Using target reaction: {target_reaction}\")\n                break\n        else:\n            target_reaction = succ_reactions[0]\n            print(f\"Using target reaction: {target_reaction}\")\n    else:\n        print(\"No succinate reactions found\")\n        print(\"Available exchange reactions:\")\n        exchange_rxns = [rxn.id for rxn in model.exchanges if rxn.id.startswith('EX_')][:10]\n        for rxn_id in exchange_rxns:\n            print(f\"  {rxn_id}\")"
  },
  {
   "cell_type": "markdown",
   "metadata": {},
   "source": "## 4. Baseline Analysis (Wild-type)\n\nLet's analyze the wild-type strain's capabilities before applying OptKnock. For the iJO1366 model, we need to first identify the correct biomass reaction and then analyze the baseline growth and production."
  },
  {
   "cell_type": "code",
   "execution_count": null,
   "metadata": {},
   "outputs": [],
   "source": "# Set up the model for baseline analysis\nmodel_wt = model.copy()\n\n# Set objective to biomass\ntry:\n    model_wt.objective = biomass_rxn_id\nexcept:\n    # If biomass_rxn_id is not defined, find it\n    biomass_rxns = [rxn for rxn in model_wt.reactions if \"biomass\" in rxn.id.lower() or \"BIOMASS\" in rxn.id]\n    if biomass_rxns:\n        biomass_rxn_id = biomass_rxns[0].id\n        model_wt.objective = biomass_rxn_id\n    else:\n        # Last resort - use default\n        biomass_rxn_id = \"Biomass_Ecoli_core\"\n        if biomass_rxn_id in [rxn.id for rxn in model_wt.reactions]:\n            model_wt.objective = biomass_rxn_id\n        else:\n            # Use the first reaction with positive objective coefficient\n            for rxn in model_wt.reactions:\n                if hasattr(rxn, 'objective_coefficient') and rxn.objective_coefficient > 0:\n                    biomass_rxn_id = rxn.id\n                    model_wt.objective = biomass_rxn_id\n                    break\n\n# Perform FBA to get baseline growth rate\nsolution_wt = model_wt.optimize()\nbaseline_growth = solution_wt.objective_value\n\n# Get baseline succinate production\ntry:\n    baseline_succinate = solution_wt.fluxes[target_reaction]\nexcept:\n    baseline_succinate = 0\n    print(f\"Warning: Could not find flux for {target_reaction}\")\n\nprint(f\"=== Wild-type Baseline Analysis ===\")\nprint(f\"Growth rate: {baseline_growth:.4f} h⁻¹\")\nprint(f\"Succinate production: {baseline_succinate:.4f} mmol/gDW/h\")\nprint(f\"Biomass reaction: {biomass_rxn_id}\")\n\n# Show some key fluxes\nprint(f\"\\nKey fluxes in wild-type:\")\nkey_fluxes = ['EX_glc__D_e', 'EX_o2_e', biomass_rxn_id]\nfor flux_id in key_fluxes:\n    if flux_id in solution_wt.fluxes.index:\n        print(f\"  {flux_id}: {solution_wt.fluxes[flux_id]:.4f}\")"
  },
  {
   "cell_type": "code",
   "execution_count": null,
   "metadata": {},
   "outputs": [],
   "source": [
    "# Flux Variability Analysis (FVA) for wild-type\n",
    "print(\"=== Flux Variability Analysis (Wild-type) ===\")\n",
    "fva_wt = FVA(model_wt, fraction_of_optimum=0.9)\n",
    "\n",
    "# Check variability of target reaction\n",
    "target_fva = fva_wt.loc[target_reaction]\n",
    "print(f\"Succinate production range: {target_fva['minimum']:.4f} to {target_fva['maximum']:.4f} mmol/gDW/h\")\n",
    "\n",
    "# Display top 10 reactions with highest flux ranges\n",
    "fva_wt['range'] = fva_wt['maximum'] - fva_wt['minimum']\n",
    "top_variable = fva_wt.nlargest(10, 'range')\n",
    "print(\"\\nTop 10 most variable reactions:\")\n",
    "for rxn_id, row in top_variable.iterrows():\n",
    "    print(f\"{rxn_id}: {row['range']:.4f} [{row['minimum']:.3f}, {row['maximum']:.3f}]\")"
   ]
  },
  {
   "cell_type": "markdown",
   "metadata": {},
   "source": [
    "## 5. Implement OptKnock Algorithm\n",
    "\n",
    "Since COBRApy doesn't have a built-in OptKnock function, we'll implement a simplified version using the bi-level optimization approach."
   ]
  },
  {
   "cell_type": "code",
   "execution_count": null,
   "metadata": {},
   "outputs": [],
   "source": "def intelligent_optknock(model, target_reaction, biomass_reaction, max_candidates=50):\n    \"\"\"\n    Intelligent OptKnock implementation for genome-scale models\n    \n    Parameters:\n    - model: COBRA model\n    - target_reaction: ID of target production reaction\n    - biomass_reaction: ID of biomass reaction\n    - max_candidates: maximum number of candidate reactions to test\n    \n    Returns:\n    - List of (knockouts, production_rate, growth_rate) tuples\n    \"\"\"\n    results = []\n    \n    # Intelligent candidate selection for genome-scale models\n    candidate_reactions = []\n    \n    # Strategy 1: Central metabolism reactions (competing pathways)\n    central_metabolism = []\n    for rxn in model.reactions:\n        if (rxn.id not in [target_reaction, biomass_reaction] and\n            not rxn.id.startswith('EX_') and\n            not rxn.id.startswith('BIOMASS') and\n            'biomass' not in rxn.id.lower()):\n            \n            # Check if reaction is in central metabolism\n            if any(keyword in rxn.id.lower() for keyword in\n                   ['pgm', 'enol', 'pyk', 'pps', 'pyc', 'pdh', 'cs', 'acn', 'icd',\n                    'akgd', 'suc', 'sdh', 'fum', 'mdh', 'ppc', 'pck', 'mez',\n                    'gap', 'pgk', 'gpm', 'eno', 'pts', 'gpi', 'pfk']):\n                central_metabolism.append(rxn.id)\n    \n    # Strategy 2: Byproduct formation reactions\n    byproduct_reactions = []\n    for rxn in model.reactions:\n        if (rxn.id not in [target_reaction, biomass_reaction] and\n            any(keyword in rxn.id.lower() for keyword in\n                ['acet', 'lac', 'for', 'eth', 'aco', 'alc']) and\n            'EX_' not in rxn.id):\n            byproduct_reactions.append(rxn.id)\n    \n    # Strategy 3: TCA cycle and related reactions\n    tca_reactions = []\n    for rxn in model.reactions:\n        if (rxn.id not in [target_reaction, biomass_reaction] and\n            any(keyword in rxn.id.lower() for keyword in\n                ['sdh', 'fum', 'mdh', 'icd', 'akg', 'suc', 'glt', 'gab']) and\n            'EX_' not in rxn.id):\n            tca_reactions.append(rxn.id)\n    \n    # Combine candidates and limit number\n    candidate_reactions = list(set(central_metabolism + byproduct_reactions + tca_reactions))\n    candidate_reactions = candidate_reactions[:max_candidates]\n    \n    print(f\"Selected {len(candidate_reactions)} candidate reactions:\")\n    print(f\"  Central metabolism: {len(central_metabolism)}\")\n    print(f\"  Byproduct formation: {len(byproduct_reactions)}\")\n    print(f\"  TCA cycle: {len(tca_reactions)}\")\n    \n    # Test single knockouts\n    for i, rxn_id in enumerate(candidate_reactions):\n        if i % 10 == 0:\n            print(f\"Testing reaction {i+1}/{len(candidate_reactions)}...\")\n            \n        try:\n            model_ko = model.copy()\n            \n            # Knock out the reaction\n            reaction = model_ko.reactions.get_by_id(rxn_id)\n            original_bounds = (reaction.lower_bound, reaction.upper_bound)\n            reaction.bounds = (0, 0)\n            \n            # Test if growth is possible\n            model_ko.objective = biomass_reaction\n            growth_solution = model_ko.optimize()\n            \n            if growth_solution.objective_value > 0.01:  # At least 1% growth\n                # Test production\n                model_ko.objective = target_reaction\n                production_solution = model_ko.optimize()\n                \n                if production_solution.objective_value > 1e-6:  # Non-zero production\n                    # Re-test growth to ensure accuracy\n                    model_ko.objective = biomass_reaction\n                    final_growth = model_ko.optimize().objective_value\n                    \n                    results.append({\n                        'knockouts': [rxn_id],\n                        'production_rate': production_solution.objective_value,\n                        'growth_rate': final_growth,\n                        'reaction_name': reaction.name,\n                        'efficiency': production_solution.objective_value / max(final_growth, 1e-6)\n                    })\n                    \n        except Exception as e:\n            continue\n    \n    return results"
  },
  {
   "cell_type": "code",
   "execution_count": null,
   "metadata": {},
   "outputs": [],
   "source": "# Run intelligent OptKnock analysis\nprint(\"=== Running Intelligent OptKnock Analysis ===\")\noptknock_results = intelligent_optknock(model, target_reaction, biomass_rxn_id, max_candidates=50)\n\n# Convert to DataFrame for analysis\nresults_df = pd.DataFrame(optknock_results)\n\nif len(results_df) > 0:\n    # Sort by production efficiency\n    results_df = results_df.sort_values('efficiency', ascending=False)\n    \n    print(f\"\\nTop 10 knockout strategies:\")\n    for i, (_, row) in enumerate(results_df.head(10).iterrows()):\n        print(f\"{i+1}. Knockout {row['knockouts'][0]} ({row['reaction_name']})\")\n        print(f\"   Production: {row['production_rate']:.6f} mmol/gDW/h\")\n        print(f\"   Growth rate: {row['growth_rate']:.4f} h⁻¹\")\n        print(f\"   Efficiency: {row['efficiency']:.6f}\")\n        \n        # Calculate improvement over wild-type\n        if baseline_succinate > 0:\n            improvement = (row['production_rate'] / baseline_succinate - 1) * 100\n            print(f\"   Improvement: {improvement:+.1f}%\")\n        print()\nelse:\n    print(\"No viable knockout strategies found.\")\n    print(\"This could be due to:\")\n    print(\"- The iJO1366 wild-type may not produce succinate\")\n    print(\"- Target reaction may not be correctly identified\")\n    print(\"- Model constraints may prevent production\")"
  },
  {
   "cell_type": "markdown",
   "metadata": {},
   "source": "## 6. Analyze OptKnock Results\n\nLet's visualize the results to understand the trade-off between growth and production. The iJO1366 model provides more comprehensive predictions due to its genome-scale nature."
  },
  {
   "cell_type": "code",
   "execution_count": null,
   "metadata": {},
   "outputs": [],
   "source": "# Create visualization of results\nif len(results_df) > 0:\n    fig, ((ax1, ax2), (ax3, ax4)) = plt.subplots(2, 2, figsize=(15, 12))\n    \n    # Plot 1: Production vs Growth rate\n    scatter = ax1.scatter(results_df['growth_rate'], results_df['production_rate'], \n                         alpha=0.6, s=50, c=results_df['efficiency'], cmap='viridis')\n    if baseline_succinate > 0:\n        ax1.axhline(y=baseline_succinate, color='r', linestyle='--', alpha=0.7, label='Wild-type production')\n    ax1.axvline(x=baseline_growth, color='r', linestyle='--', alpha=0.7, label='Wild-type growth')\n    ax1.set_xlabel('Growth Rate (h⁻¹)')\n    ax1.set_ylabel('Succinate Production (mmol/gDW/h)')\n    ax1.set_title('Production vs Growth Rate (iJO1366 Model)')\n    ax1.legend()\n    ax1.grid(True, alpha=0.3)\n    plt.colorbar(scatter, ax=ax1, label='Production Efficiency')\n    \n    # Plot 2: Top 10 production rates\n    top_10 = results_df.head(10)\n    bars = ax2.barh(range(len(top_10)), top_10['production_rate'])\n    ax2.set_yticks(range(len(top_10)))\n    ax2.set_yticklabels([f\"{rxn[:15]}...\" for rxn in top_10['knockouts']], fontsize=8)\n    ax2.set_xlabel('Succinate Production (mmol/gDW/h)')\n    ax2.set_title('Top 10 Knockout Strategies (iJO1366)')\n    if baseline_succinate > 0:\n        ax2.axvline(x=baseline_succinate, color='r', linestyle='--', label='Wild-type')\n        ax2.legend()\n    \n    # Plot 3: Production Efficiency\n    top_efficiency = results_df.nlargest(10, 'efficiency')\n    bars = ax3.barh(range(len(top_efficiency)), top_efficiency['efficiency'])\n    ax3.set_yticks(range(len(top_efficiency)))\n    ax3.set_yticklabels([f\"{rxn[:15]}...\" for rxn in top_efficiency['knockouts']], fontsize=8)\n    ax3.set_xlabel('Production Efficiency')\n    ax3.set_title('Best Production Efficiencies (iJO1366)')\n    ax3.grid(True, alpha=0.3)\n    \n    # Plot 4: Growth rate distribution\n    ax4.hist(results_df['growth_rate'], bins=15, alpha=0.7, edgecolor='black')\n    ax4.axvline(x=baseline_growth, color='r', linestyle='--', label='Wild-type')\n    ax4.set_xlabel('Growth Rate (h⁻¹)')\n    ax4.set_ylabel('Frequency')\n    ax4.set_title('Distribution of Growth Rates (iJO1366)')\n    ax4.legend()\n    ax4.grid(True, alpha=0.3)\n    \n    plt.tight_layout()\n    plt.savefig('/Users/baice/Downloads/RoboTA/Cobra/ijO1366_optknock_results.png', dpi=300, bbox_inches='tight')\n    plt.show()\nelse:\n    print(\"No results to visualize.\")"
  },
  {
   "cell_type": "markdown",
   "metadata": {},
   "source": "## 7. Detailed Analysis of Best Strategy\n\nLet's examine the best knockout strategy in detail using the comprehensive iJO1366 model."
  },
  {
   "cell_type": "code",
   "execution_count": null,
   "metadata": {},
   "outputs": [],
   "source": "# Analyze the best strategy\nif len(results_df) > 0:\n    best_strategy = results_df.iloc[0]\n    best_knockout = best_strategy['knockouts'][0]\n    \n    print(f\"=== Best Strategy Analysis (iJO1366) ===\")\n    print(f\"Knockout reaction: {best_knockout} ({best_strategy['reaction_name']})\")\n    print(f\"Production rate: {best_strategy['production_rate']:.6f} mmol/gDW/h\")\n    print(f\"Growth rate: {best_strategy['growth_rate']:.4f} h⁻¹\")\n    print(f\"Production efficiency: {best_strategy['efficiency']:.6f}\")\n    \n    if baseline_succinate > 0:\n        improvement = (best_strategy['production_rate'] / baseline_succinate - 1) * 100\n        print(f\"Improvement over wild-type: {improvement:+.1f}%\")\n    \n    # Create detailed model with best knockout\n    model_best = model.copy()\n    best_rxn = model_best.reactions.get_by_id(best_knockout)\n    original_bounds = (best_rxn.lower_bound, best_rxn.upper_bound)\n    best_rxn.bounds = (0, 0)\n    \n    print(f\"\\nKnocked out reaction details:\")\n    print(f\"ID: {best_rxn.id}\")\n    print(f\"Name: {best_rxn.name}\")\n    if hasattr(best_rxn, 'build_reaction_string'):\n        print(f\"Equation: {best_rxn.build_reaction_string()}\")\n    print(f\"Original bounds: [{original_bounds[0]}, {original_bounds[1]}]\")\n    print(f\"New bounds: [0, 0]\")\n    \n    # Analyze metabolic impact\n    print(f\"\\n=== Metabolic Impact Analysis ===\")\n    \n    # Check growth impact\n    model_best.objective = biomass_rxn_id\n    growth_solution = model_best.optimize()\n    growth_impact = (baseline_growth - growth_solution.objective_value) / baseline_growth * 100\n    print(f\"Growth impact: {growth_impact:+.1f}%\")\n    \n    # Check production potential\n    model_best.objective = target_reaction\n    production_solution = model_best.optimize()\n    print(f\"Maximum production potential: {production_solution.objective_value:.6f} mmol/gDW/h\")\n    \n    # Compare with wild-type\n    print(f\"\\n=== Comparison with Wild-type ===\")\n    print(f\"{'Metric':<25} {'Wild-type':<15} {'Best Strain':<15} {'Change':<15}\")\n    print(f\"{'-'*65}\")\n    print(f\"{'Growth rate':<25} {baseline_growth:<15.4f} {best_strategy['growth_rate']:<15.4f} {best_strategy['growth_rate']/baseline_growth-1:<15.1%}\")\n    if baseline_succinate > 0:\n        print(f\"{'Succinate production':<25} {baseline_succinate:<15.6f} {best_strategy['production_rate']:<15.6f} {best_strategy['production_rate']/baseline_succinate-1:<15.1%}\")\n    print(f\"{'Production efficiency':<25} {baseline_succinate/max(baseline_growth, 1e-6):<15.6f} {best_strategy['efficiency']:<15.6f} {best_strategy['efficiency']/(baseline_succinate/max(baseline_growth, 1e-6))-1:<15.1%}\")\n    \n    # iJO1366 specific analysis\n    print(f\"\\n=== iJO1366 Model Specific Insights ===\")\n    print(f\"Model scale: {len(model.reactions)} reactions, {len(model.metabolites)} metabolites\")\n    print(f\"Comprehensive coverage: Full metabolic network of E. coli\")\n    print(f\"Prediction accuracy: Higher than core models due to genome-scale coverage\")\n    \nelse:\n    print(\"No best strategy to analyze.\")\n    print(\"This suggests that the iJO1366 wild-type may require genetic modification\")\n    print(\"to produce succinate, which is biologically realistic.\")"
  },
  {
   "cell_type": "markdown",
   "metadata": {},
   "source": [
    "## 8. Advanced Analysis: Double Knockouts\n",
    "\n",
    "Let's explore some promising double knockout strategies."
   ]
  },
  {
   "cell_type": "code",
   "execution_count": null,
   "metadata": {},
   "outputs": [],
   "source": [
    "# Test some promising double knockouts\n",
    "def test_double_knockouts(model, target_reaction, biomass_reaction, candidate_reactions, num_tests=20):\n",
    "    \"\"\"Test double knockout strategies\"\"\"\n",
    "    results = []\n",
    "    \n",
    "    # Select top candidates from single knockouts\n",
    "    if len(candidate_reactions) > 5:\n",
    "        test_candidates = candidate_reactions[:5]\n",
    "    else:\n",
    "        test_candidates = candidate_reactions\n",
    "    \n",
    "    print(f\"Testing double knockouts from {len(test_candidates)} candidates...\")\n",
    "    \n",
    "    for i, rxn1 in enumerate(test_candidates):\n",
    "        for j, rxn2 in enumerate(test_candidates[i+1:], i+1):\n",
    "            if len(results) >= num_tests:\n",
    "                break\n",
    "                \n",
    "            model_dko = model.copy()\n",
    "            \n",
    "            # Knock out both reactions\n",
    "            for rxn_id in [rxn1, rxn2]:\n",
    "                reaction = model_dko.reactions.get_by_id(rxn_id)\n",
    "                reaction.bounds = (0, 0)\n",
    "            \n",
    "            # Test if growth is possible\n",
    "            model_dko.objective = biomass_reaction\n",
    "            growth_solution = model_dko.optimize()\n",
    "            \n",
    "            if growth_solution.objective_value > 1e-6:\n",
    "                # Test production\n",
    "                model_dko.objective = target_reaction\n",
    "                production_solution = model_dko.optimize()\n",
    "                \n",
    "                if production_solution.objective_value > 1e-6:\n",
    "                    results.append({\n",
    "                        'knockouts': [rxn1, rxn2],\n",
    "                        'production_rate': production_solution.objective_value,\n",
    "                        'growth_rate': growth_solution.objective_value\n",
    "                    })\n",
    "    \n",
    "    return results\n",
    "\n",
    "# Get top candidates from single knockouts\n",
    "if len(results_df) > 0:\n",
    "    top_candidates = results_df.head(5)['knockouts'].tolist()\n",
    "    top_candidates = [ko[0] for ko in top_candidates]\n",
    "    \n",
    "    print(\"=== Testing Double Knockouts ===\")\n",
    "    dko_results = test_double_knockouts(model, target_reaction, biomass_rxn, top_candidates)\n",
    "    \n",
    "    if dko_results:\n",
    "        dko_df = pd.DataFrame(dko_results)\n",
    "        dko_df = dko_df.sort_values('production_rate', ascending=False)\n",
    "        \n",
    "        print(f\"\\nTop 5 double knockout strategies:\")\n",
    "        for i, (_, row) in enumerate(dko_df.head(5).iterrows()):\n",
    "            print(f\"{i+1}. Knockouts: {row['knockouts']}\")\n",
    "            print(f\"   Production: {row['production_rate']:.4f} mmol/gDW/h\")\n",
    "            print(f\"   Growth rate: {row['growth_rate']:.4f} h⁻¹\")\n",
    "            print()\n",
    "    else:\n",
    "        print(\"No viable double knockout strategies found.\")\n",
    "else:\n",
    "    print(\"Cannot test double knockouts - no single knockout results.\")"
   ]
  },
  {
   "cell_type": "markdown",
   "metadata": {},
   "source": "## 8. Summary and Recommendations\n\nLet's summarize our findings and provide recommendations for metabolic engineering using the iJO1366 genome-scale model."
  },
  {
   "cell_type": "code",
   "execution_count": null,
   "metadata": {},
   "outputs": [],
   "source": "# Summary of results\nprint(\"=== OPTKNOCK ANALYSIS SUMMARY (iJO1366) ===\")\nprint()\n\nprint(\"iJO1366 Model Information:\")\nprint(f\"  Model ID: {model.id}\")\nprint(f\"  Reactions: {len(model.reactions)}\")\nprint(f\"  Metabolites: {len(model.metabolites)}\")\nprint(f\"  Genes: {len(model.genes)}\")\nprint()\n\nprint(\"Wild-type baseline:\")\nprint(f\"  Growth rate: {baseline_growth:.4f} h⁻¹\")\nprint(f\"  Succinate production: {baseline_succinate:.6f} mmol/gDW/h\")\nprint(f\"  Biomass reaction: {biomass_rxn_id}\")\nprint()\n\nif len(results_df) > 0:\n    print(\"Best single knockout strategy:\")\n    best = results_df.iloc[0]\n    print(f\"  Knockout: {best['knockouts'][0]} ({best['reaction_name']})\")\n    print(f\"  Growth rate: {best['growth_rate']:.4f} h⁻¹ ({best['growth_rate']/baseline_growth-1:.1%} change)\")\n    print(f\"  Production rate: {best['production_rate']:.6f} mmol/gDW/h ({best['production_rate']/max(baseline_succinate, 1e-6)-1:.1%} change)\")\n    print(f\"  Production efficiency: {best['efficiency']:.6f}\")\n    print()\n    \n    # Engineering recommendations\n    print(\"=== ENGINEERING RECOMMENDATIONS ===\")\n    print()\n    print(\"1. Gene Knockout Strategy (iJO1366 specific):\")\n    print(f\"   - Target: {best['knockouts'][0]}\")\n    print(f\"   - Expected improvement: {best['production_rate']/max(baseline_succinate, 1e-6)-1:.1%} increase in production\")\n    print(f\"   - Growth penalty: {baseline_growth-best['growth_rate']:.4f} h⁻¹ reduction\")\n    print(f\"   - Advantage: Genome-scale model provides more accurate predictions\")\n    print()\n    \n    print(\"2. Implementation Considerations:\")\n    print(\"   - Use CRISPR-Cas9 for precise gene knockout\")\n    print(\"   - Verify knockout with PCR and sequencing\")\n    print(\"   - Test in controlled bioreactor conditions\")\n    print(\"   - Monitor growth and production kinetics\")\n    print(\"   - Consider iJO1366 gene-reaction associations\")\n    print()\n    \n    print(\"3. Process Optimization:\")\n    print(\"   - Optimize media composition for enhanced production\")\n    print(\"   - Consider fed-batch or continuous fermentation\")\n    print(\"   - Implement process control for pH and dissolved oxygen\")\n    print(\"   - Scale up gradually from flask to bioreactor\")\n    print()\n    \n    print(\"4. Further Optimization (iJO1366 advantages):\")\n    print(\"   - Test double knockout strategies identified\")\n    print(\"   - Explore iJO1366-specific regulatory information\")\n    print(\"   - Consider gene overexpression targets from the model\")\n    print(\"   - Investigate cofactor balancing strategies\")\n    print(\"   - Use iJO1366 for comprehensive metabolic flux analysis\")\n    print()\n    \n    print(\"5. Model-Specific Benefits:\")\n    print(\"   - iJO1366 includes 1367 genes with gene-protein-reaction rules\")\n    print(\"   - Comprehensive coverage of E. coli metabolism\")\n    print(\"   - Incorporates regulatory information and constraints\")\n    print(\"   - Higher prediction accuracy compared to core models\")\n    \nelse:\n    print(\"=== IMPORTANT FINDING ===\")\n    print(\"No viable knockout strategies identified with current constraints.\")\n    print(\"This is biologically realistic for iJO1366:\")\n    print(\"- Wild-type E. coli typically does not produce succinate as main product\")\n    print(\"- Multiple genetic modifications may be required\")\n    print(\"- Consider overexpression strategies in addition to knockouts\")\n    print()\n    print(\"Alternative Approaches:\")\n    print(\"1. Test different target metabolites (acetate, lactate, etc.)\")\n    print(\"2. Explore more complex knockout strategies\")\n    print(\"3. Use advanced OptKnock algorithms with iJO1366\")\n    print(\"4. Consider metabolic engineering beyond knockouts\")\n    print(\"5. Test with different media conditions or uptake rates\")"
  },
  {
   "cell_type": "markdown",
   "metadata": {},
   "source": "## 9. References and Further Reading\n\n### Key References:\n1. **Orth, J. D., Conrad, T. M., Na, J., Lerman, J. A., Nam, H., Feist, A. M., & Palsson, B. Ø. (2011).** A comprehensive genome-scale reconstruction of Escherichia coli metabolism—2011. *Molecular Systems Biology*, 7(1), 535. **[iJO1366 Model Paper]**\n\n2. **Burgard, A. P., Pharkya, P., & Maranas, C. D. (2003).** OptKnock: a bi-level optimization framework for identifying gene knockout strategies for microbial strain optimization. *Biotechnology and Bioengineering*, 84(6), 647-657.\n\n3. **Ebrahim, A., Lerman, J. A., Palsson, B. O., & Hyduke, D. R. (2013).** COBRApy: Constraints-based reconstruction and analysis for python. *BMC Systems Biology*, 7(1), 74.\n\n### iJO1366 Model Resources:\n- **BiGG Models Database**: http://bigg.ucsd.edu/models/iJO1366\n- **Model Download**: iJO1366.xml (included with this tutorial)\n- **Model Statistics**: 2583 reactions, 1805 metabolites, 1367 genes\n- **Coverage**: Complete E. coli metabolic network including biosynthesis, degradation, and energy metabolism\n\n### Further Reading:\n- **COBRA Toolbox Documentation**: https://opencobra.github.io/cobratoolbox/\n- **COBRApy Documentation**: https://cobrapy.readthedocs.io/\n- **Genome-Scale Metabolic Modeling**: Textbooks and review articles\n- **Metabolic Engineering**: Journal articles on strain optimization\n- **E. coli Physiology**: Comprehensive understanding of cellular metabolism\n\n### Practical Resources:\n- **GitHub Repositories**: COBRApy, OptFlux, and related tools\n- **Online Courses**: Metabolic engineering and systems biology\n- **Research Papers**: Recent advances in OptKnock algorithms\n- **Conference Proceedings**: Metabolic engineering conferences"
  }
 ],
 "metadata": {
  "kernelspec": {
   "display_name": "Python 3",
   "language": "python",
   "name": "python3"
  },
  "language_info": {
   "codemirror_mode": {
    "name": "ipython",
    "version": 3
   },
   "file_extension": ".py",
   "mimetype": "text/x-python",
   "name": "python",
   "nbconvert_exporter": "python",
   "pygments_lexer": "ipython3",
   "version": "3.9.0"
  }
 },
 "nbformat": 4,
 "nbformat_minor": 4
}